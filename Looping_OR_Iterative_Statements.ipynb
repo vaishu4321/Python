{
  "cells": [
    {
      "cell_type": "markdown",
      "metadata": {
        "id": "view-in-github",
        "colab_type": "text"
      },
      "source": [
        "<a href=\"https://colab.research.google.com/github/vaishu4321/Python/blob/main/Looping_OR_Iterative_Statements.ipynb\" target=\"_parent\"><img src=\"https://colab.research.google.com/assets/colab-badge.svg\" alt=\"Open In Colab\"/></a>"
      ]
    },
    {
      "cell_type": "markdown",
      "id": "90d43a28",
      "metadata": {
        "id": "90d43a28"
      },
      "source": [
        "# Looping OR Iterative Statements"
      ]
    },
    {
      "cell_type": "raw",
      "id": "17580db6",
      "metadata": {
        "id": "17580db6"
      },
      "source": [
        "\n",
        "=>The purpose of Looping OR Iterative OR Repetative Statements is that\n",
        "\"Performing Certain Operation Repeatedly for finite Number of Times Until Condition Becomes false\".\n",
        "=>In Python Programming, we have 2 types of Looping Statements. They are\n",
        "\n",
        "\t\t\t1. while loop\n",
        "\n",
        "\t\t\t2. for loop\n"
      ]
    },
    {
      "cell_type": "markdown",
      "id": "ced54e10",
      "metadata": {
        "id": "ced54e10"
      },
      "source": [
        "# while loop"
      ]
    },
    {
      "cell_type": "raw",
      "id": "854733c4",
      "metadata": {
        "id": "854733c4"
      },
      "source": [
        "while loop, we can execute a set of statements as long as a condition is true."
      ]
    },
    {
      "cell_type": "raw",
      "id": "7c1a8bf4",
      "metadata": {
        "id": "7c1a8bf4"
      },
      "source": [
        "syntax\n",
        "#intialization\n",
        "\n",
        "while cond:\n",
        "    #block of statements\n",
        "    #updation"
      ]
    },
    {
      "cell_type": "code",
      "execution_count": null,
      "id": "93689d7f",
      "metadata": {
        "id": "93689d7f"
      },
      "outputs": [],
      "source": [
        "#1. intialization\n",
        "#2. condition\n",
        "#3. updation\n",
        "\n",
        "\n",
        "#print from 1 to 5\n",
        "\n",
        "i = 1 #intialization\n",
        "\n",
        "while i < 6:      #1<6  t   2<6\n",
        "    print(i)      # 1\n",
        "    i += 1       # i=i+1 or i+=1    #updation part"
      ]
    },
    {
      "cell_type": "code",
      "execution_count": null,
      "id": "4b9a50c8",
      "metadata": {
        "id": "4b9a50c8"
      },
      "outputs": [],
      "source": [
        "6 < 6"
      ]
    },
    {
      "cell_type": "code",
      "execution_count": null,
      "id": "2c067a7c",
      "metadata": {
        "id": "2c067a7c"
      },
      "outputs": [],
      "source": [
        "#print from 6 to 1\n",
        "\n",
        "i = 6\n",
        "\n",
        "while i > 0:    # 0 < 0 F\n",
        "    print(i)\n",
        "    i -= 1\n",
        "\n",
        "#else:\n",
        "    #print(\"i is no longer less than 6\")"
      ]
    },
    {
      "cell_type": "code",
      "execution_count": null,
      "id": "a5642535",
      "metadata": {
        "id": "a5642535"
      },
      "outputs": [],
      "source": [
        "# real time example\n",
        "\n",
        "\n",
        "correct_password = \"secret\"\n",
        "password = \"\"\n",
        "\n",
        "\n",
        "while correct_password != password:   # true\n",
        "    password = input(\"enter the password: \")\n",
        "    if correct_password == password:\n",
        "        print(\"access Greated\")\n",
        "    else:\n",
        "        print(\"Try again\")\n",
        "\n",
        ""
      ]
    },
    {
      "cell_type": "code",
      "execution_count": null,
      "id": "c9310020",
      "metadata": {
        "id": "c9310020"
      },
      "outputs": [],
      "source": [
        "# real time example\n",
        "\n",
        "\n",
        "correct_password = \"secert\"\n",
        "attempt = 0\n",
        "max_attempt = 3\n",
        "\n",
        "\n",
        "while attempt < max_attempt:   # true\n",
        "    password = input(\"enter the password: \")\n",
        "    if correct_password == password:\n",
        "        print(\"Login successfull\")\n",
        "        break\n",
        "    else:\n",
        "        attempt += 1\n",
        "        print(\"Password is incorrect Try again attempt left\", max_attempt - attempt)\n",
        "else:\n",
        "    print(\"Account Locked, Try again after 2 hours\")\n",
        "\n",
        ""
      ]
    },
    {
      "cell_type": "raw",
      "id": "4abf5fe3",
      "metadata": {
        "id": "4abf5fe3"
      },
      "source": [
        "correct_password = \"secert\"\n",
        "#password = None\n",
        "\n",
        "\n",
        "while True:\n",
        "    password = input(\"enter the password: \")\n",
        "    if correct_password == password:\n",
        "        print(\"access Greated\")\n",
        "        break\n",
        "    else:\n",
        "        print(\"Try again\")\n",
        "        break"
      ]
    },
    {
      "cell_type": "code",
      "execution_count": null,
      "id": "f3efa1f9",
      "metadata": {
        "id": "f3efa1f9"
      },
      "outputs": [],
      "source": []
    },
    {
      "cell_type": "code",
      "execution_count": null,
      "id": "3412f2c2",
      "metadata": {
        "id": "3412f2c2"
      },
      "outputs": [],
      "source": [
        "## real time example\n",
        "\n",
        "# ATM balance\n",
        "account_balance = 1000\n",
        "\n",
        "\n",
        "while account_balance > 100:\n",
        "    withdrwal = int(input(\"enter the amount you want to withdraw in 100, 200, 500: \"))\n",
        "    if withdrwal > account_balance:\n",
        "        print(\"infusistent fund\")\n",
        "        break\n",
        "    else:\n",
        "        account_balance -= withdrwal\n",
        "        print(\"withdrawn amount: \", withdrwal)\n",
        "        print(\"Remaining balance : \", account_balance)\n",
        "        break\n",
        "\n",
        "\n",
        "#print(\"no funds\")\n"
      ]
    },
    {
      "cell_type": "code",
      "execution_count": null,
      "id": "d74455eb",
      "metadata": {
        "id": "d74455eb"
      },
      "outputs": [],
      "source": [
        "account_balance = 10000\n",
        "\n",
        "\n",
        "while True:\n",
        "    withdrwal = int(input(\"enter the amount in 100, 200, 500: \"))\n",
        "\n",
        "\n",
        "    if withdrwal%100!=0:\n",
        "        print(\"Not multiple of 100\")\n",
        "    elif withdrwal > account_balance:\n",
        "        print(\"infusistent fund \")\n",
        "        break\n",
        "    else:\n",
        "        account_balance -= withdrwal\n",
        "        print(\"withdrawn amount: \", withdrwal)\n",
        "        print(\"Remaining balance : \", account_balance)\n",
        "        break\n",
        "\n",
        "\n",
        "#print(\"no funds\")\n",
        "\n"
      ]
    },
    {
      "cell_type": "code",
      "execution_count": null,
      "id": "320ccb93",
      "metadata": {
        "id": "320ccb93"
      },
      "outputs": [],
      "source": [
        "withdrwal = int(input(\"enter the amount in 100, 200, 500: \"))\n",
        "\n",
        "\n",
        "if 100 != withdrwal:\n",
        "    print(\"enter other number\")\n",
        "else:\n",
        "    print(\"withdrawn\")\n",
        "\n",
        "\n",
        "\n"
      ]
    },
    {
      "cell_type": "markdown",
      "id": "735b8bef",
      "metadata": {
        "id": "735b8bef"
      },
      "source": [
        "# for loop"
      ]
    },
    {
      "cell_type": "raw",
      "id": "a8fb051e",
      "metadata": {
        "id": "a8fb051e"
      },
      "source": [
        "A for loop is used for iterating over a sequence (that is either a\n",
        "list, a tuple, a dictionary, a set, or a string)."
      ]
    },
    {
      "cell_type": "code",
      "execution_count": null,
      "id": "927b5589",
      "metadata": {
        "id": "927b5589"
      },
      "outputs": [],
      "source": [
        "list1 = [1,2,3,4,5,6]\n",
        "\n",
        "tuple1 = (2,4,5,6,7,7)\n",
        "\n",
        "set1 = {1,2,34,56,77}\n",
        "\n",
        "#print(l,type(l))"
      ]
    },
    {
      "cell_type": "code",
      "execution_count": null,
      "id": "f916c61b",
      "metadata": {
        "id": "f916c61b"
      },
      "outputs": [],
      "source": [
        "for i in list1:\n",
        "    print(i)"
      ]
    },
    {
      "cell_type": "code",
      "execution_count": null,
      "id": "1a34b946",
      "metadata": {
        "id": "1a34b946"
      },
      "outputs": [],
      "source": [
        "for v in tuple1:\n",
        "    print(v)"
      ]
    },
    {
      "cell_type": "code",
      "execution_count": null,
      "id": "5cb03601",
      "metadata": {
        "id": "5cb03601"
      },
      "outputs": [],
      "source": [
        "#Loop through the letters in the word \"banana\":\n",
        "\n",
        "for x in \"banana\":\n",
        "    print(x)"
      ]
    },
    {
      "cell_type": "code",
      "execution_count": null,
      "id": "b5c65d5b",
      "metadata": {
        "id": "b5c65d5b"
      },
      "outputs": [],
      "source": [
        "for i in range(1,20,2):\n",
        "    print(i)"
      ]
    },
    {
      "cell_type": "code",
      "execution_count": null,
      "id": "e13dc13e",
      "metadata": {
        "id": "e13dc13e"
      },
      "outputs": [],
      "source": [
        "# deleting mutiple values at a time\n",
        "\n",
        "fruits = [\"apple\", \"banana\", \"cherry\", \"orange\",\"grapes\",\"kiwi\"]\n",
        "delete = [\"cherry\", \"orange\",\"kiwi\"]\n",
        "\n",
        "\n",
        "for x in delete:\n",
        "    fruits.remove(x)\n",
        "    print(x)\n",
        "\n",
        "print(fruits)\n",
        ""
      ]
    },
    {
      "cell_type": "code",
      "execution_count": null,
      "id": "660f05de",
      "metadata": {
        "id": "660f05de"
      },
      "outputs": [],
      "source": [
        "fruits = [\"apple\", \"banana\", \"cherry\", \"orange\",\"grapes\",\"kiwi\"]\n",
        "\n",
        "fruits.remove(\"cherry\")\n",
        "fruits.remove(\"orange\")\n",
        "fruits.remove(\"kiwi\")\n",
        "\n",
        "print(fruits)"
      ]
    },
    {
      "cell_type": "code",
      "execution_count": null,
      "id": "a14e9679",
      "metadata": {
        "id": "a14e9679"
      },
      "outputs": [],
      "source": [
        "# Adding mutiple values\n",
        "\n",
        "fruits = [\"apple\", \"banana\", \"cherry\", \"orange\",\"grapes\",\"kiwi\"]\n",
        "add = [\"cherry\", \"orange\"]\n",
        "\n",
        "\n",
        "for x in add:\n",
        "    fruits.append(x)\n",
        "\n",
        "print(fruits)"
      ]
    },
    {
      "cell_type": "code",
      "execution_count": null,
      "id": "3458af84",
      "metadata": {
        "id": "3458af84"
      },
      "outputs": [],
      "source": [
        "fruits = [\"apple\", \"banana\", \"cherry\", \"orange\",\"grapes\",\"kiwi\"]\n",
        "\n",
        "fruits.append(\"cherry\")\n",
        "fruits.append(\"orange\")"
      ]
    },
    {
      "cell_type": "code",
      "execution_count": null,
      "id": "4952d7bd",
      "metadata": {
        "id": "4952d7bd"
      },
      "outputs": [],
      "source": [
        "# print even number from 2 to 50 using for loop\n",
        "\n",
        "# even no\n",
        "for i in range(2,51,2):\n",
        "    print(i)\n",
        "\n"
      ]
    },
    {
      "cell_type": "code",
      "execution_count": null,
      "id": "a73894e4",
      "metadata": {
        "id": "a73894e4"
      },
      "outputs": [],
      "source": [
        "#odd no\n",
        "for i in range(1,51,2):\n",
        "    print(i)\n"
      ]
    },
    {
      "cell_type": "code",
      "execution_count": null,
      "id": "e80739be",
      "metadata": {
        "id": "e80739be"
      },
      "outputs": [],
      "source": [
        "# second method\n",
        "\n",
        "for i in range(1,51):\n",
        "    if i%2 == 0:\n",
        "        print(i)\n",
        "\n"
      ]
    },
    {
      "cell_type": "code",
      "execution_count": null,
      "id": "5c5e9e06",
      "metadata": {
        "id": "5c5e9e06"
      },
      "outputs": [],
      "source": [
        "11%2"
      ]
    },
    {
      "cell_type": "code",
      "execution_count": null,
      "id": "79714010",
      "metadata": {
        "id": "79714010"
      },
      "outputs": [],
      "source": [
        "for i in range(10):\n",
        "    print(i)"
      ]
    },
    {
      "cell_type": "markdown",
      "id": "4a9bc0f8",
      "metadata": {
        "id": "4a9bc0f8"
      },
      "source": [
        "# Nested for loop"
      ]
    },
    {
      "cell_type": "raw",
      "id": "da815898",
      "metadata": {
        "id": "da815898"
      },
      "source": [
        "A nested loop is a loop inside a loop.\n",
        "\n",
        "The \"inner loop\" will be executed one time for each iteration of the \"outer loop\":"
      ]
    },
    {
      "cell_type": "raw",
      "id": "accee7d1",
      "metadata": {
        "id": "accee7d1"
      },
      "source": [
        "for i in l:           #outer loop\n",
        "    for j in k:       #inner loop\n",
        "        print()"
      ]
    },
    {
      "cell_type": "code",
      "execution_count": null,
      "id": "4c1fcb73",
      "metadata": {
        "id": "4c1fcb73"
      },
      "outputs": [],
      "source": [
        "adj = [\"red\", \"big\", \"tasty\"]\n",
        "fruits = [\"apple\", \"banana\", \"cherry\"]"
      ]
    },
    {
      "cell_type": "code",
      "execution_count": null,
      "id": "a42566fb",
      "metadata": {
        "id": "a42566fb"
      },
      "outputs": [],
      "source": [
        "#red apple\n",
        "\n",
        "red banana\n",
        "red cherry\n",
        "big apple\n",
        "big banana\n",
        "big cherry\n",
        "tasty apple\n",
        "tasty banana\n",
        "tasty cherry"
      ]
    },
    {
      "cell_type": "code",
      "execution_count": null,
      "id": "96e3ee04",
      "metadata": {
        "id": "96e3ee04"
      },
      "outputs": [],
      "source": [
        "\n",
        "for x in adj:              #x=red,big   outer execute 1 time\n",
        "    for y in fruits:       #y=apple,banana, cherry      inner execute 4 times\n",
        "        print(x, y)         #red apple red banana red cheery"
      ]
    },
    {
      "cell_type": "code",
      "execution_count": null,
      "id": "7251ec9c",
      "metadata": {
        "id": "7251ec9c",
        "outputId": "7183b5be-b526-45ed-e9d6-4cbd7e9fe73a"
      },
      "outputs": [
        {
          "name": "stdin",
          "output_type": "stream",
          "text": [
            "enter the number between 1 to 100:  50\n"
          ]
        },
        {
          "name": "stdout",
          "output_type": "stream",
          "text": [
            "try with larger number\n"
          ]
        },
        {
          "name": "stdin",
          "output_type": "stream",
          "text": [
            "enter the number between 1 to 100:  75\n"
          ]
        },
        {
          "name": "stdout",
          "output_type": "stream",
          "text": [
            "try with larger number\n"
          ]
        },
        {
          "name": "stdin",
          "output_type": "stream",
          "text": [
            "enter the number between 1 to 100:  90\n"
          ]
        },
        {
          "name": "stdout",
          "output_type": "stream",
          "text": [
            "You guessed correctly\n",
            "total attempt taken :  3\n"
          ]
        }
      ],
      "source": [
        "# gussing game\n",
        "\n",
        "import random\n",
        "\n",
        "target = random.randint(1,100)\n",
        "guess = 0\n",
        "attempt = 0\n",
        "\n",
        "while guess != target:\n",
        "    guess = int(input(\"enter the number between 1 to 100: \"))\n",
        "    attempt +=1\n",
        "\n",
        "\n",
        "    if guess > target:\n",
        "        print(\"try with lower number\")\n",
        "    elif guess < target:\n",
        "        print(\"try with larger number\")\n",
        "    else:\n",
        "        print(\"You guessed correctly\")\n",
        "        print(\"total attempt taken : \" ,attempt)\n"
      ]
    },
    {
      "cell_type": "code",
      "execution_count": null,
      "id": "17cedb2a",
      "metadata": {
        "id": "17cedb2a"
      },
      "outputs": [],
      "source": [
        "import random\n",
        "\n",
        "target = random.randint(1,100)\n",
        "#guess = 0\n",
        "attempt = 0\n",
        "\n",
        "\n",
        "while True:\n",
        "    guess = int(input(\"enter the number between 1 to 100: \"))\n",
        "   # print(target)\n",
        "    attempt += 1\n",
        "\n",
        "    if guess > target:\n",
        "        print(\"try with lower number\")\n",
        "    elif guess < target:\n",
        "        print(\"try with larger number\")\n",
        "    else:\n",
        "        print(\"You guessed correctly\")\n",
        "        print(\"Total Attempt Taken :- \", attempt)\n",
        "        break\n"
      ]
    },
    {
      "cell_type": "code",
      "execution_count": null,
      "id": "230553cf",
      "metadata": {
        "id": "230553cf",
        "outputId": "9a3bfcfe-65a7-4dba-aa30-574aaaae5be5"
      },
      "outputs": [
        {
          "name": "stdout",
          "output_type": "stream",
          "text": [
            "18\n"
          ]
        }
      ],
      "source": [
        "import random\n",
        "\n",
        "target = random.randint(1,100)\n",
        "\n",
        "print(target)"
      ]
    },
    {
      "cell_type": "code",
      "execution_count": null,
      "id": "6142cbbb",
      "metadata": {
        "id": "6142cbbb"
      },
      "outputs": [],
      "source": []
    },
    {
      "cell_type": "markdown",
      "id": "391b9cd1",
      "metadata": {
        "id": "391b9cd1"
      },
      "source": [
        "# break statement"
      ]
    },
    {
      "cell_type": "raw",
      "id": "65ec7284",
      "metadata": {
        "id": "65ec7284"
      },
      "source": [
        " It terminates the current loop, i.e.,\n",
        " the loop in which it appears, and resumes execution at the next statement\n",
        " immediately after the end of that loop."
      ]
    },
    {
      "cell_type": "code",
      "execution_count": null,
      "id": "a94a971e",
      "metadata": {
        "id": "a94a971e"
      },
      "outputs": [],
      "source": [
        "i = 1\n",
        "\n",
        "while i < 6:  #i=4\n",
        "    if i == 4:   #4==4\n",
        "        print(\"This is my break statement\")\n",
        "        break\n",
        "    print(i)\n",
        "    i +=1"
      ]
    },
    {
      "cell_type": "code",
      "execution_count": null,
      "id": "5ad28879",
      "metadata": {
        "id": "5ad28879"
      },
      "outputs": [],
      "source": [
        "for i in range(2,51,2):\n",
        "    print(i)\n",
        "    if i == 10:\n",
        "        break"
      ]
    },
    {
      "cell_type": "markdown",
      "id": "273e03e2",
      "metadata": {
        "id": "273e03e2"
      },
      "source": [
        "# The continue Statement"
      ]
    },
    {
      "cell_type": "raw",
      "id": "f094c4ad",
      "metadata": {
        "id": "f094c4ad"
      },
      "source": [
        "continue statement, we can stop the current iteration of the loop, and continue with the next:"
      ]
    },
    {
      "cell_type": "code",
      "execution_count": null,
      "id": "a59afd49",
      "metadata": {
        "id": "a59afd49"
      },
      "outputs": [],
      "source": [
        "i = 1\n",
        "\n",
        "while i < 6:\n",
        "    i += 1\n",
        "    if i ==3:\n",
        "        continue\n",
        "    print(i)"
      ]
    },
    {
      "cell_type": "code",
      "execution_count": null,
      "id": "385c99f1",
      "metadata": {
        "id": "385c99f1"
      },
      "outputs": [],
      "source": [
        "fruits = (\"apple\", \"banana\", \"cherry\", \"orange\",\"grapes\",\"kiwi\")\n",
        "\n",
        "for x in fruits:\n",
        "    if x == \"grapes\":\n",
        "        continue\n",
        "    print(\"Fruits name :\",x)"
      ]
    },
    {
      "cell_type": "code",
      "execution_count": null,
      "id": "20b217ec",
      "metadata": {
        "id": "20b217ec"
      },
      "outputs": [],
      "source": [
        "\n",
        "#pass\n",
        "\n",
        "fruits = (\"apple\", \"banana\", \"cherry\", \"orange\",\"grapes\",\"kiwi\")\n",
        "\n",
        "for x in fruits:\n",
        "    #print(x)\n",
        "    pass\n",
        "\n",
        "#for y in range(12):\n",
        "    #print(y)"
      ]
    },
    {
      "cell_type": "code",
      "execution_count": null,
      "id": "61c71347",
      "metadata": {
        "id": "61c71347"
      },
      "outputs": [],
      "source": [
        "\n",
        "# factorial\n",
        "\n",
        "fact = 1\n",
        "num = int(input(\" Enter the Number: \"))\n",
        "\n",
        "while num > 0:\n",
        "    fact = fact * num   #2\n",
        "    num -= 1            #1\n",
        "\n",
        "print(fact)\n"
      ]
    },
    {
      "cell_type": "code",
      "execution_count": null,
      "id": "78ea103e",
      "metadata": {
        "id": "78ea103e"
      },
      "outputs": [],
      "source": [
        "5*4*3*2*1"
      ]
    },
    {
      "cell_type": "code",
      "execution_count": null,
      "id": "eab6bec4",
      "metadata": {
        "id": "eab6bec4"
      },
      "outputs": [],
      "source": [
        "\n"
      ]
    },
    {
      "cell_type": "code",
      "execution_count": null,
      "id": "5699da68",
      "metadata": {
        "id": "5699da68"
      },
      "outputs": [],
      "source": [
        "1. Write a Python program that prints all even numbers from 1 to 20 using a for loop."
      ]
    },
    {
      "cell_type": "code",
      "execution_count": null,
      "id": "722456af",
      "metadata": {
        "id": "722456af"
      },
      "outputs": [],
      "source": [
        "2. Calculate the sum of all numbers from 1 to 100 using a for loop."
      ]
    },
    {
      "cell_type": "code",
      "execution_count": null,
      "id": "c3f1499a",
      "metadata": {
        "id": "c3f1499a"
      },
      "outputs": [],
      "source": [
        "3. Write a Python program to find the sum of all even numbers from 1 to 100 using a for loop."
      ]
    },
    {
      "cell_type": "code",
      "execution_count": null,
      "id": "65abd7de",
      "metadata": {
        "id": "65abd7de"
      },
      "outputs": [],
      "source": [
        "4. Create a program that prints the multiplication table of a given number using a for loop.\n",
        "\n",
        "sample output :- 15 X 1 = 15"
      ]
    },
    {
      "cell_type": "code",
      "execution_count": null,
      "id": "02f3f567",
      "metadata": {
        "id": "02f3f567"
      },
      "outputs": [],
      "source": [
        "num = int(input(\"enter the number:- \"))\n",
        "\n",
        "for i in range(1,11):\n",
        "    print(num,\" X \", i, \"=\", num * i)\n"
      ]
    },
    {
      "cell_type": "code",
      "execution_count": null,
      "id": "33804f41",
      "metadata": {
        "id": "33804f41"
      },
      "outputs": [],
      "source": [
        "sum = 0\n",
        "for i in range(1,100):\n",
        "    sum +=i\n",
        "\n",
        "print(f\"sum of all numbers from 1 to 100 is : {sum}\")"
      ]
    },
    {
      "cell_type": "code",
      "execution_count": null,
      "id": "2de65fd8",
      "metadata": {
        "id": "2de65fd8"
      },
      "outputs": [],
      "source": [
        "\n",
        "sum = 0\n",
        "\n",
        "for i in range(2,101,2):\n",
        "\n",
        "    sum += i\n",
        "\n",
        "print(f\"sum of all even numbers from 1 to 100 is : {sum}\")"
      ]
    },
    {
      "cell_type": "code",
      "execution_count": null,
      "id": "d004d605",
      "metadata": {
        "id": "d004d605"
      },
      "outputs": [],
      "source": [
        "sum=0\n",
        "for i in range(0,20,2):\n",
        "    sum+=i\n",
        "\n",
        "print(sum)"
      ]
    },
    {
      "cell_type": "code",
      "execution_count": null,
      "id": "41278c43-7b0b-403e-9127-b7542bca658e",
      "metadata": {
        "id": "41278c43-7b0b-403e-9127-b7542bca658e"
      },
      "outputs": [],
      "source": [
        "sum=0\n",
        "for i in range(1,100,1):\n",
        "    sum+=i\n",
        "print(f\"The sum of all the numbers :{sum}\")"
      ]
    },
    {
      "cell_type": "code",
      "execution_count": null,
      "id": "6361456d-0bb7-47a8-a060-5b02e1d31818",
      "metadata": {
        "id": "6361456d-0bb7-47a8-a060-5b02e1d31818"
      },
      "outputs": [],
      "source": [
        "n = 10\n",
        "num1 = 0\n",
        "num2 = 1\n",
        "next_number = num2\n",
        "count = 1\n",
        "\n",
        "while count <= n:\n",
        "    print(next_number, end=\" \")\n",
        "    count += 1\n",
        "    num1, num2 = num2, next_number\n",
        "    next_number = num1 + num2\n",
        "print()"
      ]
    },
    {
      "cell_type": "code",
      "execution_count": null,
      "id": "497863b3-73fb-41d3-8f37-878340202d58",
      "metadata": {
        "id": "497863b3-73fb-41d3-8f37-878340202d58"
      },
      "outputs": [],
      "source": []
    }
  ],
  "metadata": {
    "kernelspec": {
      "display_name": "Python 3 (ipykernel)",
      "language": "python",
      "name": "python3"
    },
    "language_info": {
      "codemirror_mode": {
        "name": "ipython",
        "version": 3
      },
      "file_extension": ".py",
      "mimetype": "text/x-python",
      "name": "python",
      "nbconvert_exporter": "python",
      "pygments_lexer": "ipython3",
      "version": "3.12.4"
    },
    "colab": {
      "provenance": [],
      "include_colab_link": true
    }
  },
  "nbformat": 4,
  "nbformat_minor": 5
}