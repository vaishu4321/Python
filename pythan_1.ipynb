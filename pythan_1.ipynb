{
  "cells": [
    {
      "cell_type": "markdown",
      "metadata": {
        "id": "view-in-github",
        "colab_type": "text"
      },
      "source": [
        "<a href=\"https://colab.research.google.com/github/vaishu4321/Python/blob/main/pythan_1.ipynb\" target=\"_parent\"><img src=\"https://colab.research.google.com/assets/colab-badge.svg\" alt=\"Open In Colab\"/></a>"
      ]
    },
    {
      "cell_type": "code",
      "execution_count": null,
      "id": "acf04ca9-1f87-42a1-aca1-a51c51fb7935",
      "metadata": {
        "id": "acf04ca9-1f87-42a1-aca1-a51c51fb7935"
      },
      "outputs": [],
      "source": [
        "class Bicycle:\n",
        "    # Constructor\n",
        "    def __init__(self, color, size):\n",
        "        self.color = color\n",
        "        self.size = size\n",
        "\n",
        "    # Method\n",
        "    def ring_bell(self):\n",
        "        return \"Ring, ring!\""
      ]
    },
    {
      "cell_type": "code",
      "source": [],
      "metadata": {
        "id": "AzNZB5YkeJCc"
      },
      "id": "AzNZB5YkeJCc",
      "execution_count": null,
      "outputs": []
    },
    {
      "cell_type": "code",
      "execution_count": null,
      "id": "5a49674f-ed14-4c30-95e3-d5b0ff3a453d",
      "metadata": {
        "id": "5a49674f-ed14-4c30-95e3-d5b0ff3a453d",
        "outputId": "6d43353d-a255-4af3-e646-c24a5d4cdf7b"
      },
      "outputs": [
        {
          "name": "stdout",
          "output_type": "stream",
          "text": [
            "blue\n",
            "Bicycle started moving\n",
            "Bicycle stopped\n"
          ]
        }
      ],
      "source": [
        "class Bicycle:\n",
        "    def __init__(self, color, size):\n",
        "        self.color = color\n",
        "        self.size = size\n",
        "        self.is_moving = False\n",
        "\n",
        "    def start(self):\n",
        "        self.is_moving = True\n",
        "        return \"Bicycle started moving\"\n",
        "\n",
        "    def stop(self):\n",
        "        self.is_moving = False\n",
        "        return \"Bicycle stopped\"\n",
        "\n",
        "# Create object\n",
        "my_bike = Bicycle(\"blue\", \"large\")\n",
        "print(my_bike.color)  # blue\n",
        "print(my_bike.start())  # Bicycle started moving\n",
        "print(my_bike.stop())\n"
      ]
    },
    {
      "cell_type": "code",
      "execution_count": null,
      "id": "1c931cc1-ed4a-443d-83e1-da05dcbd4e5b",
      "metadata": {
        "id": "1c931cc1-ed4a-443d-83e1-da05dcbd4e5b",
        "outputId": "ab095412-af0c-4b94-d706-f353ac692a5b"
      },
      "outputs": [
        {
          "name": "stdout",
          "output_type": "stream",
          "text": [
            "green\n",
            "Riding on rough terrain!\n",
            "Bicycle stopped\n"
          ]
        }
      ],
      "source": [
        "class MountainBike(Bicycle):\n",
        "    def __init__(self, color, size, suspension):\n",
        "        # Call parent constructor\n",
        "        super().__init__(color, size)\n",
        "        # Add new property\n",
        "        self.suspension = suspension\n",
        "\n",
        "    def ride_offroad(self):\n",
        "        return \"Riding on rough terrain!\"\n",
        "\n",
        "# Create mountain bike\n",
        "my_mtb = MountainBike(\"green\", \"medium\", \"front\")\n",
        "print(my_mtb.color)  # green (from parent)\n",
        "print(my_mtb.ride_offroad())  # Riding on rough terrain!\n",
        "print(my_mtb.stop())\n"
      ]
    },
    {
      "cell_type": "code",
      "execution_count": null,
      "id": "3378fce8-ab81-4d89-bc9d-4f48918d2e11",
      "metadata": {
        "id": "3378fce8-ab81-4d89-bc9d-4f48918d2e11",
        "outputId": "effc0f22-446e-4085-f4e3-97a4ae362c3e"
      },
      "outputs": [
        {
          "name": "stdout",
          "output_type": "stream",
          "text": [
            "Calling 123-456-7890...\n",
            "Taking photo scene...\n",
            "Calling 123-456-7890...\n"
          ]
        }
      ],
      "source": [
        "class Mobile:\n",
        "    def __init__(self, brand, model, battery):\n",
        "        self.brand = brand\n",
        "        self.model = model\n",
        "        self.battery = battery\n",
        "        self.is_on = False\n",
        "\n",
        "    def power_on(self):\n",
        "        self.is_on = True\n",
        "        return f\"{self.brand} {self.model} powered on!\"\n",
        "\n",
        "    def make_call(self, number):\n",
        "        if self.is_on:\n",
        "            return f\"Calling {number}...\"\n",
        "        return \"Phone is off!\"\n",
        "    def take_pic(self,frame):\n",
        "        if self.is_on:\n",
        "            return f\"Taking photo {frame}...\"\n",
        "        return \"Phone is off!\"\n",
        "# Create object\n",
        "my_phone = Mobile(\"Samsung\", \"Galaxy\", \"4000mAh\")\n",
        "my_phone.power_on()\n",
        "print(my_phone.make_call(\"123-456-7890\"))\n",
        "\n",
        "my_phn= Mobile(\"OnePlus\",\"13\",\"5000mah\")\n",
        "my_phn.power_on()\n",
        "print(my_phn.take_pic(\"scene\"))\n",
        "print(my_phn.make_call(\"123-456-7890\"))"
      ]
    }
  ],
  "metadata": {
    "kernelspec": {
      "display_name": "Python 3 (ipykernel)",
      "language": "python",
      "name": "python3"
    },
    "language_info": {
      "codemirror_mode": {
        "name": "ipython",
        "version": 3
      },
      "file_extension": ".py",
      "mimetype": "text/x-python",
      "name": "python",
      "nbconvert_exporter": "python",
      "pygments_lexer": "ipython3",
      "version": "3.12.4"
    },
    "colab": {
      "provenance": [],
      "include_colab_link": true
    }
  },
  "nbformat": 4,
  "nbformat_minor": 5
}